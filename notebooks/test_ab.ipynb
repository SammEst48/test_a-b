{
 "cells": [
  {
   "cell_type": "markdown",
   "metadata": {},
   "source": [
    "# Optimización de ingresos para una tienda en línea: Hipótesis y análisis de test A/B"
   ]
  },
  {
   "cell_type": "markdown",
   "metadata": {},
   "source": [
    "En el competitivo mundo del comercio electrónico, tomar decisiones informadas basadas en datos es crucial para aumentar los ingresos y mejorar la experiencia del usuario. Este proyecto tiene como objetivo priorizar diversas hipótesis propuestas por el departamento de marketing de una gran tienda en línea y validar su efectividad mediante la realización de pruebas A/B.\n",
    "\n",
    "En la primera parte del proyecto, se utilizarán los frameworks ICE (Impacto, Confianza, Esfuerzo) y RICE (Alcance, Impacto, Confianza, Esfuerzo) para priorizar las hipótesis recopiladas. Estas hipótesis serán evaluadas y ordenadas según su potencial de generar ingresos y su viabilidad de implementación.\n",
    "\n",
    "La segunda parte del proyecto se centrará en el análisis de los resultados de un test A/B realizado. Los datos de pedidos y visitas se analizarán para identificar tendencias, calcular métricas clave como la tasa de conversión y el tamaño promedio de los pedidos, y determinar la significancia estadística de las diferencias observadas entre los grupos de prueba. Este análisis permitirá tomar decisiones basadas en evidencia sobre la adopción de las hipótesis propuestas.\n",
    "\n",
    "Este estudio proporcionará una guía práctica para la priorización de iniciativas en el comercio electrónico y la evaluación de su impacto real mediante técnicas de análisis de datos y pruebas controladas."
   ]
  },
  {
   "cell_type": "markdown",
   "metadata": {},
   "source": [
    "## Preparación de los datos para el análisis"
   ]
  },
  {
   "cell_type": "markdown",
   "metadata": {},
   "source": [
    "### Importar librerías"
   ]
  },
  {
   "cell_type": "code",
   "execution_count": 4,
   "metadata": {},
   "outputs": [],
   "source": [
    "import pandas as pd\n",
    "import datetime as dt\n",
    "import numpy as np\n",
    "import matplotlib.pyplot as plt\n",
    "import scipy.stats as stats"
   ]
  },
  {
   "cell_type": "markdown",
   "metadata": {},
   "source": [
    "### Cargar datos"
   ]
  },
  {
   "cell_type": "code",
   "execution_count": 5,
   "metadata": {},
   "outputs": [],
   "source": [
    "hypotheses = pd.read_csv('/Users/samanthaestudillo/Documents/Tripleten/Sprint 9 - Tomar decisiones de negocio basadas en datos/hypotheses_us.csv', sep= ';')\n",
    "orders = pd.read_csv('/Users/samanthaestudillo/Documents/Tripleten/Sprint 9 - Tomar decisiones de negocio basadas en datos/orders_us.csv')\n",
    "visits = pd.read_csv('/Users/samanthaestudillo/Documents/Tripleten/Sprint 9 - Tomar decisiones de negocio basadas en datos/visits_us.csv')"
   ]
  },
  {
   "cell_type": "markdown",
   "metadata": {},
   "source": [
    "### Optimizar datos"
   ]
  },
  {
   "cell_type": "markdown",
   "metadata": {},
   "source": [
    "#### Tabla *hypotheses*"
   ]
  },
  {
   "cell_type": "code",
   "execution_count": 6,
   "metadata": {},
   "outputs": [
    {
     "name": "stdout",
     "output_type": "stream",
     "text": [
      "<class 'pandas.core.frame.DataFrame'>\n",
      "RangeIndex: 9 entries, 0 to 8\n",
      "Data columns (total 5 columns):\n",
      " #   Column      Non-Null Count  Dtype \n",
      "---  ------      --------------  ----- \n",
      " 0   Hypothesis  9 non-null      object\n",
      " 1   Reach       9 non-null      int64 \n",
      " 2   Impact      9 non-null      int64 \n",
      " 3   Confidence  9 non-null      int64 \n",
      " 4   Effort      9 non-null      int64 \n",
      "dtypes: int64(4), object(1)\n",
      "memory usage: 492.0+ bytes\n"
     ]
    },
    {
     "data": {
      "text/html": [
       "<div>\n",
       "<style scoped>\n",
       "    .dataframe tbody tr th:only-of-type {\n",
       "        vertical-align: middle;\n",
       "    }\n",
       "\n",
       "    .dataframe tbody tr th {\n",
       "        vertical-align: top;\n",
       "    }\n",
       "\n",
       "    .dataframe thead th {\n",
       "        text-align: right;\n",
       "    }\n",
       "</style>\n",
       "<table border=\"1\" class=\"dataframe\">\n",
       "  <thead>\n",
       "    <tr style=\"text-align: right;\">\n",
       "      <th></th>\n",
       "      <th>Hypothesis</th>\n",
       "      <th>Reach</th>\n",
       "      <th>Impact</th>\n",
       "      <th>Confidence</th>\n",
       "      <th>Effort</th>\n",
       "    </tr>\n",
       "  </thead>\n",
       "  <tbody>\n",
       "    <tr>\n",
       "      <th>0</th>\n",
       "      <td>Add two new channels for attracting traffic. T...</td>\n",
       "      <td>3</td>\n",
       "      <td>10</td>\n",
       "      <td>8</td>\n",
       "      <td>6</td>\n",
       "    </tr>\n",
       "    <tr>\n",
       "      <th>1</th>\n",
       "      <td>Launch your own delivery service. This will sh...</td>\n",
       "      <td>2</td>\n",
       "      <td>5</td>\n",
       "      <td>4</td>\n",
       "      <td>10</td>\n",
       "    </tr>\n",
       "    <tr>\n",
       "      <th>2</th>\n",
       "      <td>Add product recommendation blocks to the store...</td>\n",
       "      <td>8</td>\n",
       "      <td>3</td>\n",
       "      <td>7</td>\n",
       "      <td>3</td>\n",
       "    </tr>\n",
       "    <tr>\n",
       "      <th>3</th>\n",
       "      <td>Change the category structure. This will incre...</td>\n",
       "      <td>8</td>\n",
       "      <td>3</td>\n",
       "      <td>3</td>\n",
       "      <td>8</td>\n",
       "    </tr>\n",
       "    <tr>\n",
       "      <th>4</th>\n",
       "      <td>Change the background color on the main page. ...</td>\n",
       "      <td>3</td>\n",
       "      <td>1</td>\n",
       "      <td>1</td>\n",
       "      <td>1</td>\n",
       "    </tr>\n",
       "  </tbody>\n",
       "</table>\n",
       "</div>"
      ],
      "text/plain": [
       "                                          Hypothesis  Reach  Impact  \\\n",
       "0  Add two new channels for attracting traffic. T...      3      10   \n",
       "1  Launch your own delivery service. This will sh...      2       5   \n",
       "2  Add product recommendation blocks to the store...      8       3   \n",
       "3  Change the category structure. This will incre...      8       3   \n",
       "4  Change the background color on the main page. ...      3       1   \n",
       "\n",
       "   Confidence  Effort  \n",
       "0           8       6  \n",
       "1           4      10  \n",
       "2           7       3  \n",
       "3           3       8  \n",
       "4           1       1  "
      ]
     },
     "execution_count": 6,
     "metadata": {},
     "output_type": "execute_result"
    }
   ],
   "source": [
    "hypotheses.info()\n",
    "hypotheses.head()"
   ]
  },
  {
   "cell_type": "markdown",
   "metadata": {},
   "source": [
    "#### Tabla *orders*"
   ]
  },
  {
   "cell_type": "code",
   "execution_count": 7,
   "metadata": {},
   "outputs": [],
   "source": [
    "orders.columns = ['transaction_id', 'visitor_id', 'date', 'revenue', 'group']\n",
    "orders.drop_duplicates(inplace=True) # Verificar y eliminar duplicados\n",
    "\n",
    "# Verificar si algún visitante está en ambos grupos\n",
    "visitor_group_counts = orders.groupby('visitor_id')['group'].nunique()\n",
    "multiple_groups_visitors = visitor_group_counts[visitor_group_counts > 1].index\n",
    "\n",
    "# Eliminar los registros de visitantes que están en ambos grupos\n",
    "orders = orders[~orders['visitor_id'].isin(multiple_groups_visitors)]"
   ]
  },
  {
   "cell_type": "code",
   "execution_count": 8,
   "metadata": {},
   "outputs": [
    {
     "name": "stdout",
     "output_type": "stream",
     "text": [
      "<class 'pandas.core.frame.DataFrame'>\n",
      "Index: 1016 entries, 0 to 1196\n",
      "Data columns (total 5 columns):\n",
      " #   Column          Non-Null Count  Dtype  \n",
      "---  ------          --------------  -----  \n",
      " 0   transaction_id  1016 non-null   int64  \n",
      " 1   visitor_id      1016 non-null   int64  \n",
      " 2   date            1016 non-null   object \n",
      " 3   revenue         1016 non-null   float64\n",
      " 4   group           1016 non-null   object \n",
      "dtypes: float64(1), int64(2), object(2)\n",
      "memory usage: 47.6+ KB\n"
     ]
    },
    {
     "data": {
      "text/html": [
       "<div>\n",
       "<style scoped>\n",
       "    .dataframe tbody tr th:only-of-type {\n",
       "        vertical-align: middle;\n",
       "    }\n",
       "\n",
       "    .dataframe tbody tr th {\n",
       "        vertical-align: top;\n",
       "    }\n",
       "\n",
       "    .dataframe thead th {\n",
       "        text-align: right;\n",
       "    }\n",
       "</style>\n",
       "<table border=\"1\" class=\"dataframe\">\n",
       "  <thead>\n",
       "    <tr style=\"text-align: right;\">\n",
       "      <th></th>\n",
       "      <th>transaction_id</th>\n",
       "      <th>visitor_id</th>\n",
       "      <th>date</th>\n",
       "      <th>revenue</th>\n",
       "      <th>group</th>\n",
       "    </tr>\n",
       "  </thead>\n",
       "  <tbody>\n",
       "    <tr>\n",
       "      <th>0</th>\n",
       "      <td>3667963787</td>\n",
       "      <td>3312258926</td>\n",
       "      <td>2019-08-15</td>\n",
       "      <td>30.4</td>\n",
       "      <td>B</td>\n",
       "    </tr>\n",
       "    <tr>\n",
       "      <th>1</th>\n",
       "      <td>2804400009</td>\n",
       "      <td>3642806036</td>\n",
       "      <td>2019-08-15</td>\n",
       "      <td>15.2</td>\n",
       "      <td>B</td>\n",
       "    </tr>\n",
       "    <tr>\n",
       "      <th>3</th>\n",
       "      <td>3797467345</td>\n",
       "      <td>1196621759</td>\n",
       "      <td>2019-08-15</td>\n",
       "      <td>155.1</td>\n",
       "      <td>B</td>\n",
       "    </tr>\n",
       "    <tr>\n",
       "      <th>4</th>\n",
       "      <td>2282983706</td>\n",
       "      <td>2322279887</td>\n",
       "      <td>2019-08-15</td>\n",
       "      <td>40.5</td>\n",
       "      <td>B</td>\n",
       "    </tr>\n",
       "    <tr>\n",
       "      <th>5</th>\n",
       "      <td>182168103</td>\n",
       "      <td>935554773</td>\n",
       "      <td>2019-08-15</td>\n",
       "      <td>35.0</td>\n",
       "      <td>B</td>\n",
       "    </tr>\n",
       "  </tbody>\n",
       "</table>\n",
       "</div>"
      ],
      "text/plain": [
       "   transaction_id  visitor_id        date  revenue group\n",
       "0      3667963787  3312258926  2019-08-15     30.4     B\n",
       "1      2804400009  3642806036  2019-08-15     15.2     B\n",
       "3      3797467345  1196621759  2019-08-15    155.1     B\n",
       "4      2282983706  2322279887  2019-08-15     40.5     B\n",
       "5       182168103   935554773  2019-08-15     35.0     B"
      ]
     },
     "execution_count": 8,
     "metadata": {},
     "output_type": "execute_result"
    }
   ],
   "source": [
    "orders.info()\n",
    "orders.head()"
   ]
  },
  {
   "cell_type": "markdown",
   "metadata": {},
   "source": [
    "#### Tabla *visits*"
   ]
  },
  {
   "cell_type": "code",
   "execution_count": 9,
   "metadata": {},
   "outputs": [],
   "source": [
    "visits.drop_duplicates(inplace=True)"
   ]
  },
  {
   "cell_type": "code",
   "execution_count": 10,
   "metadata": {},
   "outputs": [
    {
     "name": "stdout",
     "output_type": "stream",
     "text": [
      "<class 'pandas.core.frame.DataFrame'>\n",
      "RangeIndex: 62 entries, 0 to 61\n",
      "Data columns (total 3 columns):\n",
      " #   Column  Non-Null Count  Dtype \n",
      "---  ------  --------------  ----- \n",
      " 0   date    62 non-null     object\n",
      " 1   group   62 non-null     object\n",
      " 2   visits  62 non-null     int64 \n",
      "dtypes: int64(1), object(2)\n",
      "memory usage: 1.6+ KB\n"
     ]
    }
   ],
   "source": [
    "visits.info()"
   ]
  },
  {
   "cell_type": "markdown",
   "metadata": {},
   "source": [
    "##  Priorizar hipótesis"
   ]
  },
  {
   "cell_type": "markdown",
   "metadata": {},
   "source": [
    "### ICE "
   ]
  },
  {
   "cell_type": "code",
   "execution_count": 11,
   "metadata": {},
   "outputs": [
    {
     "name": "stdout",
     "output_type": "stream",
     "text": [
      "                                          Hypothesis        ICE\n",
      "8  Launch a promotion that gives users discounts ...  16.200000\n",
      "0  Add two new channels for attracting traffic. T...  13.333333\n",
      "7  Add a subscription form to all the main pages....  11.200000\n",
      "6  Show banners with current offers and sales on ...   8.000000\n",
      "2  Add product recommendation blocks to the store...   7.000000\n",
      "1  Launch your own delivery service. This will sh...   2.000000\n",
      "5  Add a customer review page. This will increase...   1.333333\n",
      "3  Change the category structure. This will incre...   1.125000\n",
      "4  Change the background color on the main page. ...   1.000000\n"
     ]
    }
   ],
   "source": [
    "hypotheses['ICE'] = hypotheses['Impact'] * hypotheses['Confidence'] / hypotheses['Effort']\n",
    "\n",
    "selected_columns_ice = ['Hypothesis', 'ICE']\n",
    "sorted_data = hypotheses[selected_columns_ice].sort_values(by='ICE', ascending=False)\n",
    "print(sorted_data)"
   ]
  },
  {
   "cell_type": "markdown",
   "metadata": {},
   "source": [
    "Los resultados del framework ICE muestran la priorización de las hipótesis basadas en su impacto, confianza y el esfuerzo necesario para implementarlas. El ICE también presenta la 8, 0 y 7 como las hipótesis más prometedoras."
   ]
  },
  {
   "cell_type": "markdown",
   "metadata": {},
   "source": [
    "### RICE"
   ]
  },
  {
   "cell_type": "code",
   "execution_count": 12,
   "metadata": {},
   "outputs": [
    {
     "name": "stdout",
     "output_type": "stream",
     "text": [
      "                                          Hypothesis   RICE\n",
      "7  Add a subscription form to all the main pages....  112.0\n",
      "2  Add product recommendation blocks to the store...   56.0\n",
      "0  Add two new channels for attracting traffic. T...   40.0\n",
      "6  Show banners with current offers and sales on ...   40.0\n",
      "8  Launch a promotion that gives users discounts ...   16.2\n",
      "3  Change the category structure. This will incre...    9.0\n",
      "1  Launch your own delivery service. This will sh...    4.0\n",
      "5  Add a customer review page. This will increase...    4.0\n",
      "4  Change the background color on the main page. ...    3.0\n"
     ]
    }
   ],
   "source": [
    "hypotheses['RICE'] = hypotheses['Reach'] * hypotheses['Impact'] * hypotheses['Confidence'] / hypotheses['Effort']\n",
    "\n",
    "selected_columns_rice = ['Hypothesis', 'RICE']\n",
    "sorted_data = hypotheses[selected_columns_rice].sort_values(by='RICE', ascending=False)\n",
    "\n",
    "print(sorted_data)"
   ]
  },
  {
   "cell_type": "markdown",
   "metadata": {},
   "source": [
    "El framework RICE (Reach, Impact, Confidence, Effort) añade el alcance (Reach) al cálculo, proporcionando una visión más completa de cada hipótesis. Nuevamente tenemos la 7 y 0 dentro de las hipotesis más prometedoras, esta vez incluyendo la 2. "
   ]
  },
  {
   "cell_type": "markdown",
   "metadata": {},
   "source": [
    "### Comparación de prioridades utilizando ICE y RICE"
   ]
  },
  {
   "cell_type": "code",
   "execution_count": 13,
   "metadata": {},
   "outputs": [
    {
     "data": {
      "image/png": "[encoded data removed]",
      "text/plain": [
       "<Figure size 640x480 with 1 Axes>"
      ]
     },
     "metadata": {},
     "output_type": "display_data"
    }
   ],
   "source": [
    "hypotheses.plot(kind='scatter', x='ICE', y='RICE')\n",
    "plt.xlabel('ICE')\n",
    "plt.ylabel('RICE')\n",
    "plt.title('Comparación ICE vs RISE')\n",
    "plt.grid(True)\n",
    "plt.show()"
   ]
  },
  {
   "cell_type": "markdown",
   "metadata": {},
   "source": [
    "Comparando los resultados de las hipótesis utilizando los frameworks ICE y RICE:\n",
    "\n",
    "- Hypothesis 7: En ICE está en la tercera posición, mientras que en RICE es la primera, indicando que su alto alcance incrementa significativamente su prioridad.\n",
    "- Hypothesis 2: Subió de la quinta posición en ICE a la segunda en RICE, demostrando que el alcance es un factor importante para esta hipótesis.\n",
    "- Hypothesis 0: Mantuvo una posición alta en ambos métodos, aunque bajó ligeramente en RICE.\n",
    "- Hypothesis 8: Pasó de la primera posición en ICE a la quinta en RICE, sugiriendo que su alcance es menor comparado con otras hipótesis."
   ]
  },
  {
   "cell_type": "markdown",
   "metadata": {},
   "source": [
    "## Análisis de test A/B"
   ]
  },
  {
   "cell_type": "markdown",
   "metadata": {},
   "source": [
    "### Ingreso acumulado por grupo."
   ]
  },
  {
   "cell_type": "code",
   "execution_count": 14,
   "metadata": {},
   "outputs": [
    {
     "name": "stdout",
     "output_type": "stream",
     "text": [
      "         date group  transactions  buyers  revenue  visitors\n",
      "0  2019-08-01     A            23      19   2266.6       719\n",
      "1  2019-08-01     B            17      17    967.2       713\n",
      "2  2019-08-02     A            42      36   3734.9      1338\n",
      "3  2019-08-02     B            40      39   3535.3      1294\n",
      "4  2019-08-03     A            66      60   5550.1      1845\n",
      "..        ...   ...           ...     ...      ...       ...\n",
      "57 2019-08-29     B           510     490  74576.7     17708\n",
      "58 2019-08-30     A           460     437  52363.7     18037\n",
      "59 2019-08-30     B           531     511  77863.5     18198\n",
      "60 2019-08-31     A           468     445  53212.0     18736\n",
      "61 2019-08-31     B           548     528  79651.2     18916\n",
      "\n",
      "[62 rows x 6 columns]\n"
     ]
    }
   ],
   "source": [
    "orders['date'] = orders['date'].map(lambda x: dt.datetime.strptime(x, '%Y-%m-%d'))\n",
    "visits['date'] = visits['date'].map(lambda x: dt.datetime.strptime(x, '%Y-%m-%d'))\n",
    "\n",
    "datesGroups = orders[['date','group']].drop_duplicates()\n",
    "\n",
    "ordersAggregated = datesGroups.apply(lambda x: orders[np.logical_and(\n",
    "    orders['date'] <= x['date'], orders['group'] == x['group'])].agg(\n",
    "    {'date' : 'max',\n",
    "     'group' : 'max',\n",
    "     'transaction_id' : pd.Series.nunique, \n",
    "     'visitor_id' : pd.Series.nunique, \n",
    "     'revenue' : 'sum'}),axis=1).sort_values(by=['date','group'])\n",
    "\n",
    "visitsAggregated = datesGroups.apply(lambda x: visits[np.logical_and(\n",
    "    visits['date'] <= x['date'], visits['group'] == x['group'])].agg(\n",
    "    {'date': 'max',\n",
    "     'group': 'max', \n",
    "     'visits': 'sum'}),axis=1,).sort_values(by=['date', 'group'])\n",
    "\n",
    "cumulativeData = ordersAggregated.merge(visitsAggregated, left_on=['date', 'group'], \n",
    "                                        right_on=['date', 'group'])\n",
    "cumulativeData.columns = [\n",
    "    'date',\n",
    "    'group',\n",
    "    'transactions',\n",
    "    'buyers',\n",
    "    'revenue',\n",
    "    'visitors',]\n",
    "\n",
    "print(cumulativeData)"
   ]
  },
  {
   "cell_type": "code",
   "execution_count": 15,
   "metadata": {},
   "outputs": [
    {
     "data": {
      "image/png": "[encoded data removed]",
      "text/plain": [
       "<Figure size 1200x400 with 1 Axes>"
      ]
     },
     "metadata": {},
     "output_type": "display_data"
    }
   ],
   "source": [
    "cumulativeRevenueA = cumulativeData[cumulativeData['group']=='A'][['date','revenue', 'transactions']]\n",
    "cumulativeRevenueB = cumulativeData[cumulativeData['group']=='B'][['date','revenue', 'transactions']]\n",
    "\n",
    "plt.figure(figsize=(12, 4))\n",
    "plt.plot(cumulativeRevenueA['date'], cumulativeRevenueA['revenue'], label='Grupo A')\n",
    "plt.plot(cumulativeRevenueB['date'], cumulativeRevenueB['revenue'], label='Grupo B')\n",
    "plt.xlabel('Fecha')\n",
    "plt.ylabel('Ingresos')\n",
    "plt.title('Ingresos acumulados por día y grupo')\n",
    "plt.legend()\n",
    "plt.grid(True)\n",
    "plt.show()"
   ]
  },
  {
   "cell_type": "markdown",
   "metadata": {},
   "source": [
    "El Grupo B muestra consistentemente ingresos acumulados más altos que el Grupo A. La diferencia de ingresos acumulados entre ambos grupos aumenta con el tiempo, indicando que el Grupo B ha tenido un mejor desempeño en términos de ingresos generados. Podríamos decir que la variación implementada en el Grupo B es efectiva y contribuye positivamente a los ingresos y la actividad de los usuarios, que los usuarios en este grupo encuentran el proceso de compra más atractivo o fácil, lo que podría ser resultado de una mejor experiencia de usuario, promociones más atractivas, o mejoras en el producto."
   ]
  },
  {
   "cell_type": "markdown",
   "metadata": {},
   "source": [
    "### Tamaño de pedido promedio"
   ]
  },
  {
   "cell_type": "code",
   "execution_count": 16,
   "metadata": {},
   "outputs": [
    {
     "data": {
      "image/png": "[encoded data removed]",
      "text/plain": [
       "<Figure size 1200x400 with 1 Axes>"
      ]
     },
     "metadata": {},
     "output_type": "display_data"
    }
   ],
   "source": [
    "plt.figure(figsize=(12, 4))\n",
    "plt.plot(\n",
    "    cumulativeRevenueA['date'], cumulativeRevenueA['revenue']/cumulativeRevenueA['transactions'], \n",
    "    label='Grupo A')\n",
    "plt.plot(\n",
    "    cumulativeRevenueB['date'], cumulativeRevenueB['revenue']/cumulativeRevenueB['transactions'], \n",
    "    label='Grupo B')\n",
    "plt.xlabel('Fecha')\n",
    "plt.ylabel('Pedidos')\n",
    "plt.title('Tamaño promedio de compra por grupo')\n",
    "plt.legend()\n",
    "plt.grid(True)\n",
    "plt.show()"
   ]
  },
  {
   "cell_type": "markdown",
   "metadata": {},
   "source": [
    "El Grupo A muestra una tendencia de crecimiento más moderada en el tamaño de pedido promedio acumulado, con incrementos y fluctuaciones, mientras que el Grupo B muestra una tendencia de crecimiento más pronunciada y con incrementos significativos lo que sugiere que la intervención implementada es efectiva para aumentar el valor promedio de los pedidos."
   ]
  },
  {
   "cell_type": "markdown",
   "metadata": {},
   "source": [
    "### Diferencia relativa en el tamaño de pedido promedio"
   ]
  },
  {
   "cell_type": "code",
   "execution_count": 17,
   "metadata": {
    "scrolled": true
   },
   "outputs": [
    {
     "data": {
      "image/png": "[encoded data removed]",
      "text/plain": [
       "<Figure size 1200x400 with 1 Axes>"
      ]
     },
     "metadata": {},
     "output_type": "display_data"
    }
   ],
   "source": [
    "mergedCumulativeRevenue = cumulativeRevenueA.merge(cumulativeRevenueB, left_on='date', right_on='date', how='left', suffixes=['A', 'B'])\n",
    "\n",
    "plt.figure(figsize=(12, 4))\n",
    "plt.plot(mergedCumulativeRevenue['date'],\n",
    "         (mergedCumulativeRevenue['revenueB']/mergedCumulativeRevenue['transactionsB'])/(\n",
    "             mergedCumulativeRevenue['revenueA']/mergedCumulativeRevenue['transactionsA'])-1)\n",
    "plt.axhline(y=0, color='black', linestyle='--')\n",
    "plt.xlabel('Fecha')\n",
    "plt.ylabel('Compras')\n",
    "plt.title('Diferencia relativa para los tamaños promedio de compra')\n",
    "plt.grid(True)\n",
    "plt.show()"
   ]
  },
  {
   "cell_type": "markdown",
   "metadata": {},
   "source": [
    "En varios puntos, la diferencia entre los segmentos aumenta. ¡Esto significa que deben haber algunos pedidos grandes y valores atípicos!"
   ]
  },
  {
   "cell_type": "markdown",
   "metadata": {},
   "source": [
    "### Tasa de conversión"
   ]
  },
  {
   "cell_type": "code",
   "execution_count": 18,
   "metadata": {
    "scrolled": false
   },
   "outputs": [
    {
     "data": {
      "image/png": "[encoded data removed]",
      "text/plain": [
       "<Figure size 1200x400 with 1 Axes>"
      ]
     },
     "metadata": {},
     "output_type": "display_data"
    }
   ],
   "source": [
    "cumulativeData['conversion'] = cumulativeData['transactions']/cumulativeData['visitors']\n",
    "\n",
    "cumulativeDataA = cumulativeData[cumulativeData['group']=='A']\n",
    "cumulativeDataB = cumulativeData[cumulativeData['group']=='B']\n",
    "\n",
    "plt.figure(figsize=(12, 4))\n",
    "plt.plot(cumulativeDataA['date'], cumulativeDataA['conversion'], label='A')\n",
    "plt.plot(cumulativeDataB['date'], cumulativeDataB['conversion'], label='B')\n",
    "plt.legend()\n",
    "plt.axis([dt.date(2019, 8, 1), dt.date(2019, 8, 31), 0.02, 0.036])\n",
    "plt.xlabel('Fecha')\n",
    "plt.title('Conversión acumulada')\n",
    "plt.grid(True)\n",
    "plt.show()"
   ]
  },
  {
   "cell_type": "markdown",
   "metadata": {},
   "source": [
    "### Número de pedidos por usuario"
   ]
  },
  {
   "cell_type": "code",
   "execution_count": 19,
   "metadata": {},
   "outputs": [
    {
     "name": "stdout",
     "output_type": "stream",
     "text": [
      "     visitor_id  orders\n",
      "55    249864742       3\n",
      "138   611059232       3\n",
      "908  3967698036       3\n",
      "478  2108163459       3\n",
      "632  2742574263       3\n",
      "890  3908431265       3\n",
      "687  2988190573       3\n",
      "792  3379260072       2\n",
      "787  3362039251       2\n",
      "780  3332057097       2\n"
     ]
    }
   ],
   "source": [
    "ordersByUsers = (\n",
    "    orders.drop(['group', 'revenue', 'date'], axis=1)\n",
    "    .groupby('visitor_id', as_index=False)\n",
    "    .agg({'transaction_id': pd.Series.nunique}))\n",
    "\n",
    "ordersByUsers.columns = ['visitor_id', 'orders']\n",
    "\n",
    "print(ordersByUsers.sort_values(by='orders', ascending=False).head(10))"
   ]
  },
  {
   "cell_type": "code",
   "execution_count": 20,
   "metadata": {},
   "outputs": [
    {
     "data": {
      "text/plain": [
       "(array([937.,   0.,   0.,   0.,   0.,  29.,   0.,   0.,   0.,   7.]),\n",
       " array([1. , 1.2, 1.4, 1.6, 1.8, 2. , 2.2, 2.4, 2.6, 2.8, 3. ]),\n",
       " <BarContainer object of 10 artists>)"
      ]
     },
     "execution_count": 20,
     "metadata": {},
     "output_type": "execute_result"
    },
    {
     "data": {
      "image/png": "[encoded data removed]",
      "text/plain": [
       "<Figure size 400x400 with 1 Axes>"
      ]
     },
     "metadata": {},
     "output_type": "display_data"
    }
   ],
   "source": [
    "plt.figure(figsize=(4,4))\n",
    "plt.hist(ordersByUsers['orders'])"
   ]
  },
  {
   "cell_type": "code",
   "execution_count": 21,
   "metadata": {},
   "outputs": [
    {
     "data": {
      "text/plain": [
       "Text(0, 0.5, 'Pedidos')"
      ]
     },
     "execution_count": 21,
     "metadata": {},
     "output_type": "execute_result"
    },
    {
     "data": {
      "image/png": "[encoded data removed]",
      "text/plain": [
       "<Figure size 600x400 with 1 Axes>"
      ]
     },
     "metadata": {},
     "output_type": "display_data"
    }
   ],
   "source": [
    "x_values = pd.Series(range(0,len(ordersByUsers)))\n",
    "plt.figure(figsize=(6,4))\n",
    "plt.scatter(x_values, ordersByUsers['orders'], color='blue', alpha=0.7, s=80)\n",
    "plt.title('Distribución de los ingresos por pedidos')\n",
    "plt.xlabel('Usuarios')\n",
    "plt.grid(True)\n",
    "plt.ylabel('Pedidos')"
   ]
  },
  {
   "cell_type": "markdown",
   "metadata": {},
   "source": [
    "La mayoría de los usuarios han realizado solo 1 o 2 pedidos. Esto sugiere que la tienda en línea tiene una base de usuarios que realiza compras de forma esporádica. Un número reducido de usuarios ha realizado 3 pedidos. Estos usuarios son más propensos a repetir sus compras. \n",
    "\n",
    "No se observan valores extremadamente altos en términos de número de pedidos por usuario en este conjunto de datos específico."
   ]
  },
  {
   "cell_type": "markdown",
   "metadata": {},
   "source": [
    "### Percentiles 95 y 99 "
   ]
  },
  {
   "cell_type": "code",
   "execution_count": 22,
   "metadata": {},
   "outputs": [
    {
     "name": "stdout",
     "output_type": "stream",
     "text": [
      "[1. 2.]\n"
     ]
    }
   ],
   "source": [
    "print(np.percentile(ordersByUsers['orders'], [95, 99]))"
   ]
  },
  {
   "cell_type": "markdown",
   "metadata": {},
   "source": [
    "No más del 5% de los usuarios realizaron más de 1 pedido y el 1% de los usuarios realizaron más de dos.\n",
    "\n",
    "Por lo tanto, sería razonable establecer uno o dos pedidos por usuario como límite inferior para el número de pedidos y filtrar las anomalías en base a ello"
   ]
  },
  {
   "cell_type": "markdown",
   "metadata": {},
   "source": [
    "### Precios de los pedidos"
   ]
  },
  {
   "cell_type": "code",
   "execution_count": 23,
   "metadata": {},
   "outputs": [
    {
     "data": {
      "image/png": "[encoded data removed]",
      "text/plain": [
       "<Figure size 600x400 with 1 Axes>"
      ]
     },
     "metadata": {},
     "output_type": "display_data"
    }
   ],
   "source": [
    "plt.figure(figsize=(6, 4))\n",
    "plt.scatter(orders['transaction_id'], orders['revenue'], color='green', alpha=0.7, edgecolors='w', s=80)\n",
    "plt.title('Distribución de los precios de los pedidos')\n",
    "plt.xlabel('Pedidos')\n",
    "plt.ylabel('Ingresos')\n",
    "plt.grid(True)\n",
    "plt.show()"
   ]
  },
  {
   "cell_type": "markdown",
   "metadata": {},
   "source": [
    "En su mayoría los ingresos por pedido de mantienen muy por debado de los 2,500 y son muy pocos los pedidos con ingresos anómalos en cantidad y monto.  "
   ]
  },
  {
   "cell_type": "markdown",
   "metadata": {},
   "source": [
    "### Dispersión de los precios de los pedidos"
   ]
  },
  {
   "cell_type": "code",
   "execution_count": 24,
   "metadata": {},
   "outputs": [
    {
     "name": "stdout",
     "output_type": "stream",
     "text": [
      "[414.275 830.3  ]\n"
     ]
    }
   ],
   "source": [
    "print(np.percentile(orders['revenue'], [95, 99]))"
   ]
  },
  {
   "cell_type": "markdown",
   "metadata": {},
   "source": [
    "Estos percentiles proporcionan una métrica clara para identificar y gestionar anomalías en los precios de los pedidos, lo que ayuda a optimizar las estrategias comerciales y a mantener la satisfacción del cliente. Los pedidos cuyo precio supera el percentil 99 (830.3) pueden considerarse anomalías en términos de ingresos por pedido."
   ]
  },
  {
   "cell_type": "markdown",
   "metadata": {},
   "source": [
    "### Significancia estadística en la conversión entre los grupos"
   ]
  },
  {
   "cell_type": "code",
   "execution_count": 25,
   "metadata": {},
   "outputs": [
    {
     "name": "stdout",
     "output_type": "stream",
     "text": [
      "0.011\n",
      "0.160\n"
     ]
    }
   ],
   "source": [
    "ordersByUsersA = orders[orders['group']=='A'].groupby('visitor_id', as_index=False).agg({'transaction_id' : pd.Series.nunique})\n",
    "ordersByUsersA.columns = ['visitor_id', 'orders']\n",
    "\n",
    "ordersByUsersB = orders[orders['group']=='B'].groupby('visitor_id', as_index=False).agg({'transaction_id' : pd.Series.nunique})\n",
    "ordersByUsersB.columns = ['visitor_id', 'orders']\n",
    "\n",
    "sampleA = pd.concat([ordersByUsersA['orders'],pd.Series(0, index=np.arange(visits[visits['group']=='A']['visits'].sum() - len(ordersByUsersA['orders'])), name='orders')],axis=0)\n",
    "\n",
    "sampleB = pd.concat([ordersByUsersB['orders'],pd.Series(0, index=np.arange(visits[visits['group']=='B']['visits'].sum() - len(ordersByUsersB['orders'])), name='orders')],axis=0)\n",
    "\n",
    "print(\"{0:.3f}\".format(stats.mannwhitneyu(sampleA, sampleB)[1]))\n",
    "\n",
    "print(\"{0:.3f}\".format(sampleB.mean()/sampleA.mean()-1))"
   ]
  },
  {
   "cell_type": "markdown",
   "metadata": {},
   "source": [
    "La prueba de Mann-Whitney U sugiere que hay una diferencia significativa en el comportamiento de compra entre los grupos A y B. Esto podría indicar que las estrategias de prueba A/B están afectando de manera diferente la propensión a comprar de los usuarios en cada grupo.\n",
    "\n",
    "Un aumento del 16.0% en la tasa de conversión del grupo B sugiere que las estrategias implementadas en este grupo podrían ser más efectivas en la inducción de compras."
   ]
  },
  {
   "cell_type": "markdown",
   "metadata": {},
   "source": [
    "### Significancia estadística de la diferencia en el tamaño promedio de pedido entre los grupos"
   ]
  },
  {
   "cell_type": "code",
   "execution_count": 26,
   "metadata": {},
   "outputs": [
    {
     "name": "stdout",
     "output_type": "stream",
     "text": [
      "0.862\n",
      "0.278\n"
     ]
    }
   ],
   "source": [
    "print('{0:.3f}'.format(stats.mannwhitneyu(orders[orders['group']=='A']['revenue'], orders[orders['group']=='B']['revenue'])[1]))\n",
    "print('{0:.3f}'.format(orders[orders['group']=='B']['revenue'].mean()/orders[orders['group']=='A']['revenue'].mean()-1))"
   ]
  },
  {
   "cell_type": "markdown",
   "metadata": {},
   "source": [
    "La prueba de Mann-Whitney U sugiere que no hay evidencia suficiente para afirmar que hay una diferencia significativa en el tamaño promedio de pedido entre los grupos A y B. Estos resultados proporcionan una visión inicial importante, aunque no concluyente, sobre las diferencias en el tamaño promedio de pedido entre los grupos A y B"
   ]
  },
  {
   "cell_type": "markdown",
   "metadata": {},
   "source": [
    "### Significancia estadística de la diferencia en la conversión entre los grupos utilizando los datos filtrados"
   ]
  },
  {
   "cell_type": "code",
   "execution_count": 27,
   "metadata": {},
   "outputs": [
    {
     "name": "stdout",
     "output_type": "stream",
     "text": [
      "Series([], Name: visitor_id, dtype: int64)\n",
      "(0,)\n",
      "0.011\n",
      "0.160\n"
     ]
    }
   ],
   "source": [
    "usersWithManyOrders = pd.concat([ordersByUsersA[ordersByUsersA['orders'] > 4]['visitor_id'], ordersByUsersB[ordersByUsersB['orders'] > 4]['visitor_id']], axis = 0)\n",
    "usersWithExpensiveOrders = orders[orders['revenue'] > 20000]['visitor_id']\n",
    "abnormalUsers = pd.concat([usersWithManyOrders, usersWithExpensiveOrders], axis = 0).drop_duplicates().sort_values()\n",
    "print(abnormalUsers.head(5))\n",
    "print(abnormalUsers.shape)\n",
    "\n",
    "sampleAFiltered = pd.concat([ordersByUsersA[np.logical_not(ordersByUsersA['visitor_id'].isin(abnormalUsers))]['orders'],pd.Series(0, index=np.arange(visits[visits['group']=='A']['visits'].sum() - len(ordersByUsersA['orders'])),name='orders')],axis=0)\n",
    "sampleBFiltered = pd.concat([ordersByUsersB[np.logical_not(ordersByUsersB['visitor_id'].isin(abnormalUsers))]['orders'],pd.Series(0, index=np.arange(visits[visits['group']=='B']['visits'].sum() - len(ordersByUsersB['orders'])),name='orders')],axis=0)\n",
    "\n",
    "print(\"{0:.3f}\".format(stats.mannwhitneyu(sampleAFiltered, sampleBFiltered)[1]))\n",
    "print(\"{0:.3f}\".format(sampleBFiltered.mean()/sampleAFiltered.mean()-1))"
   ]
  },
  {
   "cell_type": "markdown",
   "metadata": {},
   "source": [
    "### Significancia estadística de la diferencia en el tamaño promedio de pedido entre los grupos utilizando los datos filtrados"
   ]
  },
  {
   "cell_type": "code",
   "execution_count": 28,
   "metadata": {},
   "outputs": [
    {
     "name": "stdout",
     "output_type": "stream",
     "text": [
      "0.862\n",
      "0.278\n"
     ]
    }
   ],
   "source": [
    "print('{0:.3f}'.format(stats.mannwhitneyu(\n",
    "    orders[np.logical_and(\n",
    "        orders['group']=='A',\n",
    "        np.logical_not(orders['visitor_id'].isin(abnormalUsers)))]['revenue'],\n",
    "    orders[np.logical_and(\n",
    "        orders['group']=='B',\n",
    "        np.logical_not(orders['visitor_id'].isin(abnormalUsers)))]['revenue'])[1]))\n",
    "\n",
    "print('{0:.3f}'.format(\n",
    "    orders[np.logical_and(orders['group']=='B',np.logical_not(orders['visitor_id'].isin(abnormalUsers)))]['revenue'].mean()/\n",
    "    orders[np.logical_and(\n",
    "        orders['group']=='A',\n",
    "        np.logical_not(orders['visitor_id'].isin(abnormalUsers)))]['revenue'].mean() - 1))"
   ]
  },
  {
   "cell_type": "markdown",
   "metadata": {},
   "source": [
    "### Toma de decisiónes basada en los resultados "
   ]
  },
  {
   "cell_type": "markdown",
   "metadata": {},
   "source": [
    "Basado en los resultados de la prueba de diferencia en la conversión entre los grupos A y B, podemos tomar la siguiente decisión:\n",
    "\n",
    "Decisión: Se considera el grupo B como líder.\n",
    "\n",
    "- El valor p obtenido (0.011) indica una diferencia estadísticamente significativa en la conversión entre los grupos después de filtrar los datos anómalos. Esto sugiere que las estrategias implementadas podrían estar funcionando mejor el grupo B.\n",
    "\n",
    "- El grupo B muestra un aumento relativo del 16.0% en la tasa de conversión en comparación con el grupo A. Esta diferencia sugiere que las estrategias aplicadas en el grupo B podrían estar generando resultados más positivos en términos de conversión de visitantes a transacciones.\n",
    "\n",
    "Basándonos en estos hallazgos, sería prudente considerar al grupo B como líder y evaluar la posibilidad de implementar las estrategias exitosas observadas en este grupo en otros contextos o continuar optimizándolas para mejorar aún más los resultados."
   ]
  }
 ],
 "metadata": {
  "ExecuteTimeLog": [
   {
    "duration": 414,
    "start_time": "2024-05-20T18:57:12.957Z"
   },
   {
    "duration": 35,
    "start_time": "2024-05-20T19:01:46.203Z"
   },
   {
    "duration": 14,
    "start_time": "2024-05-20T19:33:10.013Z"
   },
   {
    "duration": 20,
    "start_time": "2024-05-20T19:33:30.949Z"
   },
   {
    "duration": 9,
    "start_time": "2024-05-20T19:33:57.567Z"
   },
   {
    "duration": 8,
    "start_time": "2024-05-20T19:34:03.130Z"
   },
   {
    "duration": 22,
    "start_time": "2024-05-20T19:40:47.272Z"
   },
   {
    "duration": 11,
    "start_time": "2024-05-20T19:40:49.827Z"
   },
   {
    "duration": 14,
    "start_time": "2024-05-20T19:42:11.351Z"
   },
   {
    "duration": 16,
    "start_time": "2024-05-20T19:58:13.965Z"
   },
   {
    "duration": 10,
    "start_time": "2024-05-20T20:01:21.388Z"
   },
   {
    "duration": 393,
    "start_time": "2024-05-20T20:02:49.122Z"
   },
   {
    "duration": 14,
    "start_time": "2024-05-20T20:02:58.374Z"
   },
   {
    "duration": 334,
    "start_time": "2024-05-21T02:12:43.893Z"
   },
   {
    "duration": 586,
    "start_time": "2024-05-21T02:12:59.304Z"
   },
   {
    "duration": 30,
    "start_time": "2024-05-21T02:13:01.574Z"
   },
   {
    "duration": 17,
    "start_time": "2024-05-21T02:13:03.095Z"
   },
   {
    "duration": 23,
    "start_time": "2024-05-21T02:13:14.523Z"
   },
   {
    "duration": 384,
    "start_time": "2024-05-21T02:13:41.484Z"
   },
   {
    "duration": 16,
    "start_time": "2024-05-21T02:13:46.517Z"
   },
   {
    "duration": 781,
    "start_time": "2024-05-21T02:18:52.833Z"
   },
   {
    "duration": 4,
    "start_time": "2024-05-21T02:19:45.053Z"
   },
   {
    "duration": 12,
    "start_time": "2024-05-21T02:19:48.408Z"
   },
   {
    "duration": 24,
    "start_time": "2024-05-21T02:21:23.787Z"
   },
   {
    "duration": 11,
    "start_time": "2024-05-21T02:21:28.766Z"
   },
   {
    "duration": 17,
    "start_time": "2024-05-21T02:21:45.414Z"
   },
   {
    "duration": 18,
    "start_time": "2024-05-21T02:21:51.028Z"
   },
   {
    "duration": 4,
    "start_time": "2024-05-21T02:25:53.082Z"
   },
   {
    "duration": 10,
    "start_time": "2024-05-21T02:25:54.101Z"
   },
   {
    "duration": 17,
    "start_time": "2024-05-21T02:25:55.769Z"
   },
   {
    "duration": 27,
    "start_time": "2024-05-21T02:27:44.968Z"
   },
   {
    "duration": 23,
    "start_time": "2024-05-21T02:28:43.752Z"
   },
   {
    "duration": 16,
    "start_time": "2024-05-21T02:29:14.845Z"
   },
   {
    "duration": 25,
    "start_time": "2024-05-21T02:30:02.567Z"
   },
   {
    "duration": 16,
    "start_time": "2024-05-21T02:30:24.132Z"
   },
   {
    "duration": 17,
    "start_time": "2024-05-21T02:30:58.824Z"
   },
   {
    "duration": 31,
    "start_time": "2024-05-21T02:31:04.102Z"
   },
   {
    "duration": 13,
    "start_time": "2024-05-21T02:32:43.412Z"
   },
   {
    "duration": 24,
    "start_time": "2024-05-21T02:32:53.878Z"
   },
   {
    "duration": 489,
    "start_time": "2024-05-21T02:33:13.037Z"
   },
   {
    "duration": 25,
    "start_time": "2024-05-21T02:33:13.531Z"
   },
   {
    "duration": 31,
    "start_time": "2024-05-21T02:33:19.407Z"
   },
   {
    "duration": 18,
    "start_time": "2024-05-21T02:33:24.112Z"
   },
   {
    "duration": 18,
    "start_time": "2024-05-21T02:33:43.536Z"
   },
   {
    "duration": 28,
    "start_time": "2024-05-21T02:33:48.392Z"
   },
   {
    "duration": 14,
    "start_time": "2024-05-21T02:34:15.002Z"
   },
   {
    "duration": 13,
    "start_time": "2024-05-21T02:34:31.945Z"
   },
   {
    "duration": 6,
    "start_time": "2024-05-21T02:35:23.186Z"
   },
   {
    "duration": 15,
    "start_time": "2024-05-21T02:35:28.010Z"
   },
   {
    "duration": 517,
    "start_time": "2024-05-21T02:37:08.099Z"
   },
   {
    "duration": 23,
    "start_time": "2024-05-21T02:37:08.620Z"
   },
   {
    "duration": 31,
    "start_time": "2024-05-21T02:37:08.646Z"
   },
   {
    "duration": 51,
    "start_time": "2024-05-21T02:37:08.680Z"
   },
   {
    "duration": 26,
    "start_time": "2024-05-21T02:37:08.734Z"
   },
   {
    "duration": 10,
    "start_time": "2024-05-21T02:37:08.764Z"
   },
   {
    "duration": 52,
    "start_time": "2024-05-21T02:37:08.777Z"
   },
   {
    "duration": 12,
    "start_time": "2024-05-21T02:37:12.839Z"
   },
   {
    "duration": 15,
    "start_time": "2024-05-21T02:37:15.943Z"
   },
   {
    "duration": 3961,
    "start_time": "2024-05-21T02:41:28.511Z"
   },
   {
    "duration": 29,
    "start_time": "2024-05-21T02:42:22.340Z"
   },
   {
    "duration": 362,
    "start_time": "2024-05-21T02:45:54.150Z"
   },
   {
    "duration": 416,
    "start_time": "2024-05-21T02:52:05.764Z"
   },
   {
    "duration": 16,
    "start_time": "2024-05-21T02:52:23.088Z"
   },
   {
    "duration": 4196,
    "start_time": "2024-05-21T17:56:37.054Z"
   },
   {
    "duration": 12,
    "start_time": "2024-05-21T18:00:53.219Z"
   },
   {
    "duration": 347,
    "start_time": "2024-05-21T18:01:22.330Z"
   },
   {
    "duration": 767,
    "start_time": "2024-05-21T18:01:47.800Z"
   },
   {
    "duration": 88,
    "start_time": "2024-05-21T18:01:48.572Z"
   },
   {
    "duration": 34,
    "start_time": "2024-05-21T18:01:48.663Z"
   },
   {
    "duration": 21,
    "start_time": "2024-05-21T18:01:48.700Z"
   },
   {
    "duration": 30,
    "start_time": "2024-05-21T18:01:48.727Z"
   },
   {
    "duration": 9,
    "start_time": "2024-05-21T18:01:48.760Z"
   },
   {
    "duration": 50,
    "start_time": "2024-05-21T18:01:48.773Z"
   },
   {
    "duration": 13,
    "start_time": "2024-05-21T18:01:48.826Z"
   },
   {
    "duration": 14,
    "start_time": "2024-05-21T18:01:48.844Z"
   },
   {
    "duration": 629,
    "start_time": "2024-05-21T18:02:00.926Z"
   },
   {
    "duration": 69,
    "start_time": "2024-05-21T18:03:26.958Z"
   },
   {
    "duration": 67,
    "start_time": "2024-05-21T18:04:03.511Z"
   },
   {
    "duration": 69,
    "start_time": "2024-05-21T18:04:49.207Z"
   },
   {
    "duration": 13,
    "start_time": "2024-05-21T18:05:27.720Z"
   },
   {
    "duration": 31,
    "start_time": "2024-05-21T18:11:35.421Z"
   },
   {
    "duration": 694,
    "start_time": "2024-05-21T18:12:55.293Z"
   },
   {
    "duration": 76,
    "start_time": "2024-05-21T18:12:55.990Z"
   },
   {
    "duration": 27,
    "start_time": "2024-05-21T18:12:56.071Z"
   },
   {
    "duration": 20,
    "start_time": "2024-05-21T18:12:56.102Z"
   },
   {
    "duration": 25,
    "start_time": "2024-05-21T18:12:56.126Z"
   },
   {
    "duration": 6,
    "start_time": "2024-05-21T18:12:56.156Z"
   },
   {
    "duration": 15,
    "start_time": "2024-05-21T18:12:56.209Z"
   },
   {
    "duration": 12,
    "start_time": "2024-05-21T18:12:56.226Z"
   },
   {
    "duration": 12,
    "start_time": "2024-05-21T18:12:56.243Z"
   },
   {
    "duration": 356,
    "start_time": "2024-05-21T18:13:02.728Z"
   },
   {
    "duration": 47,
    "start_time": "2024-05-21T18:13:39.329Z"
   },
   {
    "duration": 8,
    "start_time": "2024-05-21T18:13:56.481Z"
   },
   {
    "duration": 334,
    "start_time": "2024-05-21T18:14:03.895Z"
   },
   {
    "duration": 74,
    "start_time": "2024-05-21T18:14:16.803Z"
   },
   {
    "duration": 71,
    "start_time": "2024-05-21T18:14:32.850Z"
   },
   {
    "duration": 737,
    "start_time": "2024-05-21T18:16:42.028Z"
   },
   {
    "duration": 64,
    "start_time": "2024-05-21T18:16:44.678Z"
   },
   {
    "duration": 28,
    "start_time": "2024-05-21T18:16:47.371Z"
   },
   {
    "duration": 14,
    "start_time": "2024-05-21T18:16:58.196Z"
   },
   {
    "duration": 22,
    "start_time": "2024-05-21T18:17:00.743Z"
   },
   {
    "duration": 6,
    "start_time": "2024-05-21T18:17:06.332Z"
   },
   {
    "duration": 13,
    "start_time": "2024-05-21T18:17:08.266Z"
   },
   {
    "duration": 11,
    "start_time": "2024-05-21T18:17:13.751Z"
   },
   {
    "duration": 12,
    "start_time": "2024-05-21T18:17:17.967Z"
   },
   {
    "duration": 865,
    "start_time": "2024-05-21T18:17:37.057Z"
   },
   {
    "duration": 700,
    "start_time": "2024-05-21T18:18:13.363Z"
   },
   {
    "duration": 78,
    "start_time": "2024-05-21T18:18:14.066Z"
   },
   {
    "duration": 26,
    "start_time": "2024-05-21T18:18:14.147Z"
   },
   {
    "duration": 38,
    "start_time": "2024-05-21T18:18:14.176Z"
   },
   {
    "duration": 24,
    "start_time": "2024-05-21T18:18:14.218Z"
   },
   {
    "duration": 5,
    "start_time": "2024-05-21T18:18:14.246Z"
   },
   {
    "duration": 14,
    "start_time": "2024-05-21T18:18:14.255Z"
   },
   {
    "duration": 44,
    "start_time": "2024-05-21T18:18:14.272Z"
   },
   {
    "duration": 12,
    "start_time": "2024-05-21T18:18:14.319Z"
   },
   {
    "duration": 771,
    "start_time": "2024-05-21T18:18:20.414Z"
   },
   {
    "duration": 75,
    "start_time": "2024-05-21T18:18:43.321Z"
   },
   {
    "duration": 719,
    "start_time": "2024-05-21T18:18:58.212Z"
   },
   {
    "duration": 74,
    "start_time": "2024-05-21T18:18:58.934Z"
   },
   {
    "duration": 25,
    "start_time": "2024-05-21T18:18:59.011Z"
   },
   {
    "duration": 13,
    "start_time": "2024-05-21T18:18:59.041Z"
   },
   {
    "duration": 61,
    "start_time": "2024-05-21T18:18:59.057Z"
   },
   {
    "duration": 7,
    "start_time": "2024-05-21T18:18:59.122Z"
   },
   {
    "duration": 17,
    "start_time": "2024-05-21T18:18:59.133Z"
   },
   {
    "duration": 17,
    "start_time": "2024-05-21T18:18:59.153Z"
   },
   {
    "duration": 12,
    "start_time": "2024-05-21T18:18:59.210Z"
   },
   {
    "duration": 423,
    "start_time": "2024-05-21T18:18:59.227Z"
   },
   {
    "duration": 314,
    "start_time": "2024-05-21T18:22:33.830Z"
   },
   {
    "duration": 699,
    "start_time": "2024-05-21T18:22:57.897Z"
   },
   {
    "duration": 68,
    "start_time": "2024-05-21T18:22:58.599Z"
   },
   {
    "duration": 44,
    "start_time": "2024-05-21T18:22:58.670Z"
   },
   {
    "duration": 14,
    "start_time": "2024-05-21T18:22:58.718Z"
   },
   {
    "duration": 23,
    "start_time": "2024-05-21T18:22:58.736Z"
   },
   {
    "duration": 46,
    "start_time": "2024-05-21T18:22:58.762Z"
   },
   {
    "duration": 15,
    "start_time": "2024-05-21T18:22:58.810Z"
   },
   {
    "duration": 10,
    "start_time": "2024-05-21T18:22:58.829Z"
   },
   {
    "duration": 11,
    "start_time": "2024-05-21T18:22:58.843Z"
   },
   {
    "duration": 1178,
    "start_time": "2024-05-21T18:23:06.423Z"
   },
   {
    "duration": 676,
    "start_time": "2024-05-21T18:24:23.844Z"
   },
   {
    "duration": 69,
    "start_time": "2024-05-21T18:24:24.524Z"
   },
   {
    "duration": 43,
    "start_time": "2024-05-21T18:24:24.596Z"
   },
   {
    "duration": 14,
    "start_time": "2024-05-21T18:24:24.642Z"
   },
   {
    "duration": 50,
    "start_time": "2024-05-21T18:24:24.660Z"
   },
   {
    "duration": 6,
    "start_time": "2024-05-21T18:24:24.714Z"
   },
   {
    "duration": 15,
    "start_time": "2024-05-21T18:24:24.724Z"
   },
   {
    "duration": 12,
    "start_time": "2024-05-21T18:24:24.741Z"
   },
   {
    "duration": 54,
    "start_time": "2024-05-21T18:24:24.756Z"
   },
   {
    "duration": 277,
    "start_time": "2024-05-21T18:24:27.742Z"
   },
   {
    "duration": 673,
    "start_time": "2024-05-21T18:30:48.676Z"
   },
   {
    "duration": 659,
    "start_time": "2024-05-21T18:32:26.868Z"
   },
   {
    "duration": 71,
    "start_time": "2024-05-21T18:32:27.530Z"
   },
   {
    "duration": 25,
    "start_time": "2024-05-21T18:32:27.610Z"
   },
   {
    "duration": 13,
    "start_time": "2024-05-21T18:32:27.639Z"
   },
   {
    "duration": 59,
    "start_time": "2024-05-21T18:32:27.657Z"
   },
   {
    "duration": 6,
    "start_time": "2024-05-21T18:32:27.720Z"
   },
   {
    "duration": 12,
    "start_time": "2024-05-21T18:32:27.729Z"
   },
   {
    "duration": 12,
    "start_time": "2024-05-21T18:32:27.744Z"
   },
   {
    "duration": 54,
    "start_time": "2024-05-21T18:32:27.759Z"
   },
   {
    "duration": 1119,
    "start_time": "2024-05-21T18:32:31.705Z"
   },
   {
    "duration": 661,
    "start_time": "2024-05-21T18:33:03.553Z"
   },
   {
    "duration": 66,
    "start_time": "2024-05-21T18:33:04.217Z"
   },
   {
    "duration": 40,
    "start_time": "2024-05-21T18:33:04.286Z"
   },
   {
    "duration": 13,
    "start_time": "2024-05-21T18:33:04.330Z"
   },
   {
    "duration": 24,
    "start_time": "2024-05-21T18:33:04.346Z"
   },
   {
    "duration": 6,
    "start_time": "2024-05-21T18:33:04.408Z"
   },
   {
    "duration": 14,
    "start_time": "2024-05-21T18:33:04.418Z"
   },
   {
    "duration": 11,
    "start_time": "2024-05-21T18:33:04.436Z"
   },
   {
    "duration": 13,
    "start_time": "2024-05-21T18:33:04.450Z"
   },
   {
    "duration": 443,
    "start_time": "2024-05-21T18:33:09.044Z"
   },
   {
    "duration": 358,
    "start_time": "2024-05-21T18:37:15.038Z"
   },
   {
    "duration": 279,
    "start_time": "2024-05-21T18:38:03.621Z"
   },
   {
    "duration": 370,
    "start_time": "2024-05-21T18:38:45.763Z"
   },
   {
    "duration": 22,
    "start_time": "2024-05-21T18:39:06.998Z"
   },
   {
    "duration": 324,
    "start_time": "2024-05-21T18:39:13.984Z"
   },
   {
    "duration": 361,
    "start_time": "2024-05-21T18:39:47.611Z"
   },
   {
    "duration": 335,
    "start_time": "2024-05-21T18:40:15.680Z"
   },
   {
    "duration": 263,
    "start_time": "2024-05-21T18:47:37.807Z"
   },
   {
    "duration": 332,
    "start_time": "2024-05-21T18:49:28.355Z"
   },
   {
    "duration": 384,
    "start_time": "2024-05-21T18:56:22.563Z"
   },
   {
    "duration": 303,
    "start_time": "2024-05-21T18:56:33.487Z"
   },
   {
    "duration": 298,
    "start_time": "2024-05-21T18:56:43.395Z"
   },
   {
    "duration": 319,
    "start_time": "2024-05-21T18:57:04.735Z"
   },
   {
    "duration": 214,
    "start_time": "2024-05-21T19:04:19.994Z"
   },
   {
    "duration": 32,
    "start_time": "2024-05-21T19:05:05.738Z"
   },
   {
    "duration": 41,
    "start_time": "2024-05-21T19:07:33.928Z"
   },
   {
    "duration": 286,
    "start_time": "2024-05-21T19:11:04.473Z"
   },
   {
    "duration": 325,
    "start_time": "2024-05-21T19:11:40.936Z"
   },
   {
    "duration": 347,
    "start_time": "2024-05-21T19:14:10.182Z"
   },
   {
    "duration": 327,
    "start_time": "2024-05-21T19:15:44.843Z"
   },
   {
    "duration": 307,
    "start_time": "2024-05-21T19:17:10.922Z"
   },
   {
    "duration": 526,
    "start_time": "2024-05-21T19:18:28.737Z"
   },
   {
    "duration": 741,
    "start_time": "2024-05-21T19:18:43.848Z"
   },
   {
    "duration": 82,
    "start_time": "2024-05-21T19:18:44.593Z"
   },
   {
    "duration": 25,
    "start_time": "2024-05-21T19:18:44.678Z"
   },
   {
    "duration": 23,
    "start_time": "2024-05-21T19:18:44.709Z"
   },
   {
    "duration": 26,
    "start_time": "2024-05-21T19:18:44.740Z"
   },
   {
    "duration": 5,
    "start_time": "2024-05-21T19:18:44.769Z"
   },
   {
    "duration": 45,
    "start_time": "2024-05-21T19:18:44.777Z"
   },
   {
    "duration": 20,
    "start_time": "2024-05-21T19:18:44.824Z"
   },
   {
    "duration": 12,
    "start_time": "2024-05-21T19:18:44.850Z"
   },
   {
    "duration": 531,
    "start_time": "2024-05-21T19:18:44.865Z"
   },
   {
    "duration": 1120,
    "start_time": "2024-05-21T19:18:45.400Z"
   },
   {
    "duration": 0,
    "start_time": "2024-05-21T19:18:46.524Z"
   },
   {
    "duration": 0,
    "start_time": "2024-05-21T19:18:46.526Z"
   },
   {
    "duration": 384,
    "start_time": "2024-05-21T19:19:21.697Z"
   },
   {
    "duration": 332,
    "start_time": "2024-05-21T19:19:41.147Z"
   },
   {
    "duration": 572,
    "start_time": "2024-05-21T19:19:59.500Z"
   },
   {
    "duration": 118,
    "start_time": "2024-05-21T19:21:34.613Z"
   },
   {
    "duration": 291,
    "start_time": "2024-05-21T19:21:55.050Z"
   },
   {
    "duration": 294,
    "start_time": "2024-05-21T19:22:07.039Z"
   },
   {
    "duration": 518,
    "start_time": "2024-05-21T19:22:27.675Z"
   },
   {
    "duration": 331,
    "start_time": "2024-05-21T19:23:51.563Z"
   },
   {
    "duration": 324,
    "start_time": "2024-05-21T19:24:42.326Z"
   },
   {
    "duration": 377,
    "start_time": "2024-05-21T19:25:39.700Z"
   },
   {
    "duration": 8,
    "start_time": "2024-05-21T19:27:22.272Z"
   },
   {
    "duration": 8,
    "start_time": "2024-05-21T19:29:48.181Z"
   },
   {
    "duration": 10,
    "start_time": "2024-05-21T19:43:14.577Z"
   },
   {
    "duration": 7,
    "start_time": "2024-05-21T19:43:39.907Z"
   },
   {
    "duration": 8,
    "start_time": "2024-05-21T19:45:34.679Z"
   },
   {
    "duration": 11,
    "start_time": "2024-05-21T19:51:36.853Z"
   },
   {
    "duration": 1553,
    "start_time": "2024-05-21T20:10:37.372Z"
   },
   {
    "duration": 402,
    "start_time": "2024-05-21T20:11:55.410Z"
   },
   {
    "duration": 295,
    "start_time": "2024-05-21T20:16:03.595Z"
   },
   {
    "duration": 388,
    "start_time": "2024-05-21T20:17:39.494Z"
   },
   {
    "duration": 410,
    "start_time": "2024-05-21T20:18:53.036Z"
   },
   {
    "duration": 4343,
    "start_time": "2024-05-22T14:42:00.444Z"
   },
   {
    "duration": 35,
    "start_time": "2024-05-22T14:42:04.790Z"
   },
   {
    "duration": 26,
    "start_time": "2024-05-22T14:42:04.828Z"
   },
   {
    "duration": 13,
    "start_time": "2024-05-22T14:42:04.859Z"
   },
   {
    "duration": 48,
    "start_time": "2024-05-22T14:42:04.875Z"
   },
   {
    "duration": 7,
    "start_time": "2024-05-22T14:42:04.926Z"
   },
   {
    "duration": 14,
    "start_time": "2024-05-22T14:42:04.936Z"
   },
   {
    "duration": 12,
    "start_time": "2024-05-22T14:42:04.953Z"
   },
   {
    "duration": 52,
    "start_time": "2024-05-22T14:42:04.969Z"
   },
   {
    "duration": 481,
    "start_time": "2024-05-22T14:42:05.028Z"
   },
   {
    "duration": 350,
    "start_time": "2024-05-22T14:42:05.513Z"
   },
   {
    "duration": 302,
    "start_time": "2024-05-22T14:42:05.866Z"
   },
   {
    "duration": 434,
    "start_time": "2024-05-22T14:42:06.171Z"
   },
   {
    "duration": 8,
    "start_time": "2024-05-22T14:42:10.291Z"
   },
   {
    "duration": 284,
    "start_time": "2024-05-22T14:42:33.869Z"
   },
   {
    "duration": 303,
    "start_time": "2024-05-22T14:43:03.073Z"
   },
   {
    "duration": 290,
    "start_time": "2024-05-22T14:43:39.122Z"
   },
   {
    "duration": 289,
    "start_time": "2024-05-22T14:43:55.150Z"
   },
   {
    "duration": 15,
    "start_time": "2024-05-22T14:48:02.127Z"
   },
   {
    "duration": 250,
    "start_time": "2024-05-22T14:48:57.064Z"
   },
   {
    "duration": 4279,
    "start_time": "2024-05-23T18:12:40.967Z"
   },
   {
    "duration": 32,
    "start_time": "2024-05-23T18:12:45.250Z"
   },
   {
    "duration": 28,
    "start_time": "2024-05-23T18:12:45.286Z"
   },
   {
    "duration": 28,
    "start_time": "2024-05-23T18:12:45.318Z"
   },
   {
    "duration": 25,
    "start_time": "2024-05-23T18:12:45.353Z"
   },
   {
    "duration": 6,
    "start_time": "2024-05-23T18:12:45.381Z"
   },
   {
    "duration": 48,
    "start_time": "2024-05-23T18:12:45.390Z"
   },
   {
    "duration": 11,
    "start_time": "2024-05-23T18:12:45.440Z"
   },
   {
    "duration": 11,
    "start_time": "2024-05-23T18:12:45.455Z"
   },
   {
    "duration": 232,
    "start_time": "2024-05-23T18:22:42.330Z"
   },
   {
    "duration": 210,
    "start_time": "2024-05-23T18:23:14.926Z"
   },
   {
    "duration": 241,
    "start_time": "2024-05-23T18:23:50.461Z"
   },
   {
    "duration": 372,
    "start_time": "2024-05-23T18:24:02.754Z"
   },
   {
    "duration": 273,
    "start_time": "2024-05-23T18:25:00.218Z"
   },
   {
    "duration": 478,
    "start_time": "2024-05-23T18:25:23.965Z"
   },
   {
    "duration": 324,
    "start_time": "2024-05-23T18:25:28.010Z"
   },
   {
    "duration": 289,
    "start_time": "2024-05-23T18:25:33.556Z"
   },
   {
    "duration": 361,
    "start_time": "2024-05-23T18:25:47.281Z"
   },
   {
    "duration": 303,
    "start_time": "2024-05-23T18:50:16.996Z"
   },
   {
    "duration": 278,
    "start_time": "2024-05-23T19:07:17.980Z"
   },
   {
    "duration": 233,
    "start_time": "2024-05-23T19:13:03.673Z"
   },
   {
    "duration": 260,
    "start_time": "2024-05-23T19:13:15.251Z"
   },
   {
    "duration": 239,
    "start_time": "2024-05-23T19:13:37.803Z"
   },
   {
    "duration": 255,
    "start_time": "2024-05-23T19:14:31.613Z"
   },
   {
    "duration": 269,
    "start_time": "2024-05-23T19:14:49.339Z"
   },
   {
    "duration": 300,
    "start_time": "2024-05-23T19:14:59.148Z"
   },
   {
    "duration": 247,
    "start_time": "2024-05-23T19:15:07.995Z"
   },
   {
    "duration": 270,
    "start_time": "2024-05-23T19:15:16.084Z"
   },
   {
    "duration": 5,
    "start_time": "2024-05-23T19:20:41.062Z"
   },
   {
    "duration": 5,
    "start_time": "2024-05-23T19:21:35.979Z"
   },
   {
    "duration": 6,
    "start_time": "2024-05-23T19:22:38.836Z"
   },
   {
    "duration": 235,
    "start_time": "2024-05-23T19:24:12.428Z"
   },
   {
    "duration": 230,
    "start_time": "2024-05-23T19:24:20.106Z"
   },
   {
    "duration": 243,
    "start_time": "2024-05-23T19:24:40.582Z"
   },
   {
    "duration": 229,
    "start_time": "2024-05-23T19:24:51.361Z"
   },
   {
    "duration": 245,
    "start_time": "2024-05-23T19:24:58.342Z"
   },
   {
    "duration": 8,
    "start_time": "2024-05-23T19:25:06.521Z"
   },
   {
    "duration": 257,
    "start_time": "2024-05-23T19:25:13.802Z"
   },
   {
    "duration": 242,
    "start_time": "2024-05-23T19:26:35.544Z"
   },
   {
    "duration": 304,
    "start_time": "2024-05-23T19:40:07.255Z"
   },
   {
    "duration": 256,
    "start_time": "2024-05-23T19:40:18.396Z"
   },
   {
    "duration": 350,
    "start_time": "2024-05-23T19:40:27.415Z"
   },
   {
    "duration": 238,
    "start_time": "2024-05-23T19:48:14.104Z"
   },
   {
    "duration": 218,
    "start_time": "2024-05-23T19:48:39.076Z"
   },
   {
    "duration": 215,
    "start_time": "2024-05-23T19:48:46.333Z"
   },
   {
    "duration": 262,
    "start_time": "2024-05-23T19:49:22.353Z"
   },
   {
    "duration": 246,
    "start_time": "2024-05-23T19:50:20.517Z"
   },
   {
    "duration": 207,
    "start_time": "2024-05-23T19:51:01.230Z"
   },
   {
    "duration": 153,
    "start_time": "2024-05-23T19:51:43.162Z"
   },
   {
    "duration": 226,
    "start_time": "2024-05-23T19:51:50.711Z"
   },
   {
    "duration": 205,
    "start_time": "2024-05-23T19:52:05.077Z"
   },
   {
    "duration": 222,
    "start_time": "2024-05-23T19:52:40.057Z"
   },
   {
    "duration": 246,
    "start_time": "2024-05-23T19:58:37.528Z"
   },
   {
    "duration": 5,
    "start_time": "2024-05-23T20:01:34.157Z"
   },
   {
    "duration": 313,
    "start_time": "2024-05-23T22:35:48.879Z"
   },
   {
    "duration": 4447,
    "start_time": "2024-05-23T22:35:58.394Z"
   },
   {
    "duration": 25,
    "start_time": "2024-05-23T22:36:02.845Z"
   },
   {
    "duration": 33,
    "start_time": "2024-05-23T22:36:02.873Z"
   },
   {
    "duration": 13,
    "start_time": "2024-05-23T22:36:02.909Z"
   },
   {
    "duration": 22,
    "start_time": "2024-05-23T22:36:02.926Z"
   },
   {
    "duration": 6,
    "start_time": "2024-05-23T22:36:02.951Z"
   },
   {
    "duration": 52,
    "start_time": "2024-05-23T22:36:02.961Z"
   },
   {
    "duration": 11,
    "start_time": "2024-05-23T22:36:03.017Z"
   },
   {
    "duration": 12,
    "start_time": "2024-05-23T22:36:03.031Z"
   },
   {
    "duration": 277,
    "start_time": "2024-05-23T22:36:03.046Z"
   },
   {
    "duration": 462,
    "start_time": "2024-05-23T22:36:03.327Z"
   },
   {
    "duration": 332,
    "start_time": "2024-05-23T22:36:03.793Z"
   },
   {
    "duration": 306,
    "start_time": "2024-05-23T22:36:04.128Z"
   },
   {
    "duration": 379,
    "start_time": "2024-05-23T22:36:04.439Z"
   },
   {
    "duration": 311,
    "start_time": "2024-05-23T22:36:04.822Z"
   },
   {
    "duration": 248,
    "start_time": "2024-05-23T22:36:05.136Z"
   },
   {
    "duration": 187,
    "start_time": "2024-05-23T22:36:05.387Z"
   },
   {
    "duration": 217,
    "start_time": "2024-05-23T22:36:05.577Z"
   },
   {
    "duration": 9,
    "start_time": "2024-05-23T22:36:05.805Z"
   },
   {
    "duration": 305,
    "start_time": "2024-05-23T22:36:05.818Z"
   },
   {
    "duration": 6,
    "start_time": "2024-05-23T22:36:59.988Z"
   },
   {
    "duration": 220,
    "start_time": "2024-05-23T22:37:05.412Z"
   },
   {
    "duration": 212,
    "start_time": "2024-05-23T22:37:14.450Z"
   },
   {
    "duration": 284,
    "start_time": "2024-05-23T22:37:26.909Z"
   },
   {
    "duration": 217,
    "start_time": "2024-05-23T22:37:37.483Z"
   },
   {
    "duration": 231,
    "start_time": "2024-05-23T22:38:00.978Z"
   },
   {
    "duration": 221,
    "start_time": "2024-05-23T22:39:09.033Z"
   },
   {
    "duration": 243,
    "start_time": "2024-05-23T22:39:54.422Z"
   },
   {
    "duration": 218,
    "start_time": "2024-05-23T22:40:10.318Z"
   },
   {
    "duration": 242,
    "start_time": "2024-05-23T22:41:43.046Z"
   },
   {
    "duration": 217,
    "start_time": "2024-05-23T22:42:16.022Z"
   },
   {
    "duration": 8,
    "start_time": "2024-05-23T22:43:03.370Z"
   },
   {
    "duration": 893,
    "start_time": "2024-05-23T22:53:25.636Z"
   },
   {
    "duration": 6,
    "start_time": "2024-05-23T22:53:38.929Z"
   },
   {
    "duration": 206,
    "start_time": "2024-05-23T23:05:25.118Z"
   },
   {
    "duration": 273,
    "start_time": "2024-05-23T23:07:44.102Z"
   },
   {
    "duration": 559,
    "start_time": "2024-05-23T23:08:09.415Z"
   },
   {
    "duration": 249,
    "start_time": "2024-05-23T23:08:18.345Z"
   },
   {
    "duration": 17,
    "start_time": "2024-05-23T23:13:26.969Z"
   },
   {
    "duration": 11,
    "start_time": "2024-05-23T23:15:01.007Z"
   },
   {
    "duration": 13,
    "start_time": "2024-05-23T23:16:15.978Z"
   },
   {
    "duration": 38,
    "start_time": "2024-05-23T23:16:36.102Z"
   },
   {
    "duration": 24,
    "start_time": "2024-05-23T23:18:11.033Z"
   },
   {
    "duration": 39,
    "start_time": "2024-05-23T23:25:16.800Z"
   },
   {
    "duration": 4901,
    "start_time": "2024-05-24T22:42:35.979Z"
   },
   {
    "duration": 32,
    "start_time": "2024-05-24T22:42:40.884Z"
   },
   {
    "duration": 28,
    "start_time": "2024-05-24T22:42:40.919Z"
   },
   {
    "duration": 14,
    "start_time": "2024-05-24T22:42:40.950Z"
   },
   {
    "duration": 44,
    "start_time": "2024-05-24T22:42:40.967Z"
   },
   {
    "duration": 7,
    "start_time": "2024-05-24T22:42:41.013Z"
   },
   {
    "duration": 15,
    "start_time": "2024-05-24T22:42:41.024Z"
   },
   {
    "duration": 52,
    "start_time": "2024-05-24T22:42:41.042Z"
   },
   {
    "duration": 12,
    "start_time": "2024-05-24T22:42:41.097Z"
   },
   {
    "duration": 258,
    "start_time": "2024-05-24T22:42:41.115Z"
   },
   {
    "duration": 451,
    "start_time": "2024-05-24T22:42:41.375Z"
   },
   {
    "duration": 339,
    "start_time": "2024-05-24T22:42:41.830Z"
   },
   {
    "duration": 314,
    "start_time": "2024-05-24T22:42:42.172Z"
   },
   {
    "duration": 410,
    "start_time": "2024-05-24T22:42:42.491Z"
   },
   {
    "duration": 313,
    "start_time": "2024-05-24T22:42:42.904Z"
   },
   {
    "duration": 230,
    "start_time": "2024-05-24T22:42:43.221Z"
   },
   {
    "duration": 183,
    "start_time": "2024-05-24T22:42:43.454Z"
   },
   {
    "duration": 249,
    "start_time": "2024-05-24T22:42:43.641Z"
   },
   {
    "duration": 7,
    "start_time": "2024-05-24T22:42:43.893Z"
   },
   {
    "duration": 307,
    "start_time": "2024-05-24T22:42:43.903Z"
   },
   {
    "duration": 6,
    "start_time": "2024-05-24T22:42:44.213Z"
   },
   {
    "duration": 297,
    "start_time": "2024-05-24T22:42:44.223Z"
   },
   {
    "duration": 14,
    "start_time": "2024-05-24T22:42:44.523Z"
   },
   {
    "duration": 445,
    "start_time": "2024-05-24T22:42:44.540Z"
   },
   {
    "duration": 0,
    "start_time": "2024-05-24T22:42:44.991Z"
   },
   {
    "duration": 357,
    "start_time": "2024-05-27T17:03:47.796Z"
   },
   {
    "duration": 5285,
    "start_time": "2024-05-27T17:03:59.192Z"
   },
   {
    "duration": 23,
    "start_time": "2024-05-27T17:04:04.480Z"
   },
   {
    "duration": 41,
    "start_time": "2024-05-27T17:04:04.505Z"
   },
   {
    "duration": 16,
    "start_time": "2024-05-27T17:04:04.557Z"
   },
   {
    "duration": 70,
    "start_time": "2024-05-27T17:04:04.576Z"
   },
   {
    "duration": 6,
    "start_time": "2024-05-27T17:04:04.649Z"
   },
   {
    "duration": 14,
    "start_time": "2024-05-27T17:04:04.658Z"
   },
   {
    "duration": 11,
    "start_time": "2024-05-27T17:04:04.676Z"
   },
   {
    "duration": 49,
    "start_time": "2024-05-27T17:04:04.690Z"
   },
   {
    "duration": 276,
    "start_time": "2024-05-27T17:04:04.750Z"
   },
   {
    "duration": 507,
    "start_time": "2024-05-27T17:04:05.029Z"
   },
   {
    "duration": 396,
    "start_time": "2024-05-27T17:04:05.540Z"
   },
   {
    "duration": 330,
    "start_time": "2024-05-27T17:04:05.939Z"
   },
   {
    "duration": 423,
    "start_time": "2024-05-27T17:04:06.272Z"
   },
   {
    "duration": 345,
    "start_time": "2024-05-27T17:04:06.698Z"
   },
   {
    "duration": 245,
    "start_time": "2024-05-27T17:04:07.046Z"
   },
   {
    "duration": 279,
    "start_time": "2024-05-27T17:04:07.296Z"
   },
   {
    "duration": 265,
    "start_time": "2024-05-27T17:04:07.578Z"
   },
   {
    "duration": 6,
    "start_time": "2024-05-27T17:04:07.847Z"
   },
   {
    "duration": 267,
    "start_time": "2024-05-27T17:04:07.856Z"
   },
   {
    "duration": 15,
    "start_time": "2024-05-27T17:04:08.126Z"
   },
   {
    "duration": 271,
    "start_time": "2024-05-27T17:04:08.144Z"
   },
   {
    "duration": 27,
    "start_time": "2024-05-27T17:04:08.418Z"
   },
   {
    "duration": 138,
    "start_time": "2024-05-27T17:04:08.463Z"
   },
   {
    "duration": 261,
    "start_time": "2024-05-27T17:04:57.870Z"
   },
   {
    "duration": 49,
    "start_time": "2024-05-27T17:07:34.425Z"
   },
   {
    "duration": 38,
    "start_time": "2024-05-27T17:07:45.999Z"
   }
  ],
  "kernelspec": {
   "display_name": "env_notebooks",
   "language": "python",
   "name": "python3"
  },
  "language_info": {
   "codemirror_mode": {
    "name": "ipython",
    "version": 3
   },
   "file_extension": ".py",
   "mimetype": "text/x-python",
   "name": "python",
   "nbconvert_exporter": "python",
   "pygments_lexer": "ipython3",
   "version": "3.11.9"
  },
  "toc": {
   "base_numbering": 1,
   "nav_menu": {},
   "number_sections": true,
   "sideBar": true,
   "skip_h1_title": true,
   "title_cell": "Table of Contents",
   "title_sidebar": "Contents",
   "toc_cell": false,
   "toc_position": {
    "height": "calc(100% - 180px)",
    "left": "10px",
    "top": "150px",
    "width": "194.361px"
   },
   "toc_section_display": true,
   "toc_window_display": true
  }
 },
 "nbformat": 4,
 "nbformat_minor": 2
}
